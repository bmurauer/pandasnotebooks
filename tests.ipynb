{
 "cells": [
  {
   "cell_type": "code",
   "execution_count": 1,
   "metadata": {
    "scrolled": false
   },
   "outputs": [
    {
     "data": {
      "application/vnd.jupyter.widget-view+json": {
       "model_id": "ab6e4c4148ea45f991effce94f8cf46b",
       "version_major": 2,
       "version_minor": 0
      },
      "text/plain": [
       "VBox(children=(VBox(children=(Text(value='', description='row ID(s)', layout=Layout(width='70%'), style=Descri…"
      ]
     },
     "metadata": {},
     "output_type": "display_data"
    },
    {
     "name": "stdout",
     "output_type": "stream",
     "text": [
      "df loaded with shape (12, 14)\n"
     ]
    },
    {
     "data": {
      "application/vnd.jupyter.widget-view+json": {
       "model_id": "530075070dff469187138e4b9b4a5b81",
       "version_major": 2,
       "version_minor": 0
      },
      "text/plain": [
       "VBox(children=(HBox(children=(VBox(children=(Button(description='All', style=ButtonStyle()), Button(descriptio…"
      ]
     },
     "metadata": {},
     "output_type": "display_data"
    },
    {
     "data": {
      "text/html": [
       "<div>\n",
       "<style scoped>\n",
       "    .dataframe tbody tr th:only-of-type {\n",
       "        vertical-align: middle;\n",
       "    }\n",
       "\n",
       "    .dataframe tbody tr th {\n",
       "        vertical-align: top;\n",
       "    }\n",
       "\n",
       "    .dataframe thead th {\n",
       "        text-align: right;\n",
       "    }\n",
       "</style>\n",
       "<table border=\"1\" class=\"dataframe\">\n",
       "  <thead>\n",
       "    <tr style=\"text-align: right;\">\n",
       "      <th></th>\n",
       "      <th></th>\n",
       "      <th></th>\n",
       "      <th></th>\n",
       "      <th></th>\n",
       "      <th></th>\n",
       "      <th></th>\n",
       "      <th></th>\n",
       "      <th></th>\n",
       "      <th></th>\n",
       "      <th></th>\n",
       "      <th>mean_test_f1_macro</th>\n",
       "    </tr>\n",
       "    <tr>\n",
       "      <th>svm__C</th>\n",
       "      <th>word_ngrams__word_ngrams__tfidf__ngram_range</th>\n",
       "      <th>classifier</th>\n",
       "      <th>word_ngrams__word_ngrams__tfidf__analyzer</th>\n",
       "      <th>char_ngrams__char_ngrams__tfidf__analyzer</th>\n",
       "      <th>dtgrams__treegrams__treegram__p</th>\n",
       "      <th>char_ngrams__char_ngrams__tfidf__ngram_range</th>\n",
       "      <th>upos_ngrams__upos_ngrams__tfidf__ngram_range</th>\n",
       "      <th>dtgrams__treegrams__treegram__tgram</th>\n",
       "      <th>features</th>\n",
       "      <th>dtgrams__treegrams__treegram__q</th>\n",
       "      <th></th>\n",
       "    </tr>\n",
       "  </thead>\n",
       "  <tbody>\n",
       "    <tr>\n",
       "      <th rowspan=\"5\" valign=\"top\">0.1</th>\n",
       "      <th rowspan=\"5\" valign=\"top\">N/A</th>\n",
       "      <th rowspan=\"5\" valign=\"top\">svm</th>\n",
       "      <th rowspan=\"5\" valign=\"top\">N/A</th>\n",
       "      <th rowspan=\"5\" valign=\"top\">N/A</th>\n",
       "      <th rowspan=\"5\" valign=\"top\">1</th>\n",
       "      <th rowspan=\"5\" valign=\"top\">N/A</th>\n",
       "      <th rowspan=\"5\" valign=\"top\">N/A</th>\n",
       "      <th rowspan=\"4\" valign=\"top\">HLine</th>\n",
       "      <th rowspan=\"4\" valign=\"top\">dtgrams</th>\n",
       "      <th>1</th>\n",
       "      <td>12</td>\n",
       "    </tr>\n",
       "    <tr>\n",
       "      <th>2</th>\n",
       "      <td>12</td>\n",
       "    </tr>\n",
       "    <tr>\n",
       "      <th>3</th>\n",
       "      <td>12</td>\n",
       "    </tr>\n",
       "    <tr>\n",
       "      <th>4</th>\n",
       "      <td>12</td>\n",
       "    </tr>\n",
       "    <tr>\n",
       "      <th>PQGram</th>\n",
       "      <th>dtgrams</th>\n",
       "      <th>1</th>\n",
       "      <td>12</td>\n",
       "    </tr>\n",
       "    <tr>\n",
       "      <th>...</th>\n",
       "      <th>...</th>\n",
       "      <th>...</th>\n",
       "      <th>...</th>\n",
       "      <th>...</th>\n",
       "      <th>...</th>\n",
       "      <th>...</th>\n",
       "      <th>...</th>\n",
       "      <th>...</th>\n",
       "      <th>...</th>\n",
       "      <th>...</th>\n",
       "      <td>...</td>\n",
       "    </tr>\n",
       "    <tr>\n",
       "      <th rowspan=\"5\" valign=\"top\">N/A</th>\n",
       "      <th rowspan=\"2\" valign=\"top\">N/A</th>\n",
       "      <th rowspan=\"2\" valign=\"top\">xgb</th>\n",
       "      <th rowspan=\"2\" valign=\"top\">N/A</th>\n",
       "      <th rowspan=\"2\" valign=\"top\">char</th>\n",
       "      <th rowspan=\"2\" valign=\"top\">N/A</th>\n",
       "      <th>[2, 2]</th>\n",
       "      <th>N/A</th>\n",
       "      <th>N/A</th>\n",
       "      <th>char_ngrams</th>\n",
       "      <th>N/A</th>\n",
       "      <td>12</td>\n",
       "    </tr>\n",
       "    <tr>\n",
       "      <th>[3, 3]</th>\n",
       "      <th>N/A</th>\n",
       "      <th>N/A</th>\n",
       "      <th>char_ngrams</th>\n",
       "      <th>N/A</th>\n",
       "      <td>12</td>\n",
       "    </tr>\n",
       "    <tr>\n",
       "      <th>[1, 1]</th>\n",
       "      <th>xgb</th>\n",
       "      <th>word</th>\n",
       "      <th>N/A</th>\n",
       "      <th>N/A</th>\n",
       "      <th>N/A</th>\n",
       "      <th>N/A</th>\n",
       "      <th>N/A</th>\n",
       "      <th>word_ngrams</th>\n",
       "      <th>N/A</th>\n",
       "      <td>12</td>\n",
       "    </tr>\n",
       "    <tr>\n",
       "      <th>[2, 2]</th>\n",
       "      <th>xgb</th>\n",
       "      <th>word</th>\n",
       "      <th>N/A</th>\n",
       "      <th>N/A</th>\n",
       "      <th>N/A</th>\n",
       "      <th>N/A</th>\n",
       "      <th>N/A</th>\n",
       "      <th>word_ngrams</th>\n",
       "      <th>N/A</th>\n",
       "      <td>12</td>\n",
       "    </tr>\n",
       "    <tr>\n",
       "      <th>[3, 3]</th>\n",
       "      <th>xgb</th>\n",
       "      <th>word</th>\n",
       "      <th>N/A</th>\n",
       "      <th>N/A</th>\n",
       "      <th>N/A</th>\n",
       "      <th>N/A</th>\n",
       "      <th>N/A</th>\n",
       "      <th>word_ngrams</th>\n",
       "      <th>N/A</th>\n",
       "      <td>12</td>\n",
       "    </tr>\n",
       "  </tbody>\n",
       "</table>\n",
       "<p>360 rows × 1 columns</p>\n",
       "</div>"
      ],
      "text/plain": [
       "                                                                                                                                                                                                                                                                                                                                                              mean_test_f1_macro\n",
       "svm__C word_ngrams__word_ngrams__tfidf__ngram_range classifier word_ngrams__word_ngrams__tfidf__analyzer char_ngrams__char_ngrams__tfidf__analyzer dtgrams__treegrams__treegram__p char_ngrams__char_ngrams__tfidf__ngram_range upos_ngrams__upos_ngrams__tfidf__ngram_range dtgrams__treegrams__treegram__tgram features    dtgrams__treegrams__treegram__q                    \n",
       "0.1    N/A                                          svm        N/A                                       N/A                                       1                               N/A                                          N/A                                          HLine                               dtgrams     1                                                12\n",
       "                                                                                                                                                                                                                                                                                                                             2                                                12\n",
       "                                                                                                                                                                                                                                                                                                                             3                                                12\n",
       "                                                                                                                                                                                                                                                                                                                             4                                                12\n",
       "                                                                                                                                                                                                                                                                             PQGram                              dtgrams     1                                                12\n",
       "...                                                                                                                                                                                                                                                                                                                                                                          ...\n",
       "N/A    N/A                                          xgb        N/A                                       char                                      N/A                             [2, 2]                                       N/A                                          N/A                                 char_ngrams N/A                                              12\n",
       "                                                                                                                                                                                   [3, 3]                                       N/A                                          N/A                                 char_ngrams N/A                                              12\n",
       "       [1, 1]                                       xgb        word                                      N/A                                       N/A                             N/A                                          N/A                                          N/A                                 word_ngrams N/A                                              12\n",
       "       [2, 2]                                       xgb        word                                      N/A                                       N/A                             N/A                                          N/A                                          N/A                                 word_ngrams N/A                                              12\n",
       "       [3, 3]                                       xgb        word                                      N/A                                       N/A                             N/A                                          N/A                                          N/A                                 word_ngrams N/A                                              12\n",
       "\n",
       "[360 rows x 1 columns]"
      ]
     },
     "metadata": {},
     "output_type": "display_data"
    }
   ],
   "source": [
    "from pandasnotebooks import LoaderWidget, FilterWidget\n",
    "from dbispipeline.analytics import extract_gridsearch_parameters\n",
    "\n",
    "lw = LoaderWidget(\n",
    "    #row_ids=\"6998,6999\"\n",
    "    #row_ids=\"6998-6999\"\n",
    "    git_ids='e4f0336bb26135aae333bfd377e6ce175776b2ae',\n",
    ")\n",
    "lw.load()\n",
    "\n",
    "fw = FilterWidget(lw.df, keep_columns=['outcome'], score_name='mean_test_f1_macro')\n",
    "fw.do_filter()"
   ]
  },
  {
   "cell_type": "code",
   "execution_count": null,
   "metadata": {},
   "outputs": [],
   "source": []
  },
  {
   "cell_type": "code",
   "execution_count": 2,
   "metadata": {
    "scrolled": true
   },
   "outputs": [
    {
     "data": {
      "application/vnd.jupyter.widget-view+json": {
       "model_id": "96ae8e91c6314e3cb0c029c52b627913",
       "version_major": 2,
       "version_minor": 0
      },
      "text/plain": [
       "VBox(children=(Output(), HBox(children=(Checkbox(value=False, description='include index'), Text(value='l', de…"
      ]
     },
     "metadata": {},
     "output_type": "display_data"
    }
   ],
   "source": [
    "from pandasnotebooks._latex import LatexWidget\n",
    "latex_widget = LatexWidget(fw.df, set(lw.df['git_commit_id'].values))"
   ]
  },
  {
   "cell_type": "code",
   "execution_count": 3,
   "metadata": {
    "scrolled": true
   },
   "outputs": [
    {
     "ename": "TypeError",
     "evalue": "__init__() got an unexpected keyword argument 'score_name'",
     "output_type": "error",
     "traceback": [
      "\u001b[0;31m---------------------------------------------------------------------------\u001b[0m",
      "\u001b[0;31mTypeError\u001b[0m                                 Traceback (most recent call last)",
      "\u001b[0;32m<ipython-input-3-dbb76ae6bf24>\u001b[0m in \u001b[0;36m<module>\u001b[0;34m\u001b[0m\n\u001b[1;32m      1\u001b[0m \u001b[0;32mfrom\u001b[0m \u001b[0mpandasnotebooks\u001b[0m\u001b[0;34m.\u001b[0m\u001b[0m_plot\u001b[0m \u001b[0;32mimport\u001b[0m \u001b[0mPlotWidget\u001b[0m\u001b[0;34m\u001b[0m\u001b[0;34m\u001b[0m\u001b[0m\n\u001b[0;32m----> 2\u001b[0;31m \u001b[0mpw\u001b[0m \u001b[0;34m=\u001b[0m \u001b[0mPlotWidget\u001b[0m\u001b[0;34m(\u001b[0m\u001b[0mfw\u001b[0m\u001b[0;34m.\u001b[0m\u001b[0mdf\u001b[0m\u001b[0;34m,\u001b[0m \u001b[0mscore_name\u001b[0m\u001b[0;34m=\u001b[0m\u001b[0;34m'mean_test_score'\u001b[0m\u001b[0;34m)\u001b[0m\u001b[0;34m\u001b[0m\u001b[0;34m\u001b[0m\u001b[0m\n\u001b[0m",
      "\u001b[0;31mTypeError\u001b[0m: __init__() got an unexpected keyword argument 'score_name'"
     ]
    }
   ],
   "source": [
    "from pandasnotebooks._plot import PlotWidget\n",
    "pw = PlotWidget(fw.df, score_name='mean_test_score')"
   ]
  },
  {
   "cell_type": "code",
   "execution_count": null,
   "metadata": {},
   "outputs": [],
   "source": [
    "import pandas as pd\n",
    "outcome = {\n",
    "    'cv_results': {\n",
    "        'mean_fit_time': {0: 0.0011463165283203125, 1: 0.0009317398071289062, 2: 0.0011485815048217773, 3: 0.000944972038269043}, \n",
    "        'std_fit_time': {0: 6.198883056640625e-06, 1: 4.76837158203125e-07, 2: 1.2516975402832031e-05, 3: 1.1920928955078125e-07}, \n",
    "        'mean_score_time': {0: 0.0015609264373779297, 1: 0.0014744997024536133, 2: 0.0014700889587402344, 3: 0.0015102624893188477}, \n",
    "        'std_score_time': {0: 4.649162292480469e-05, 1: 1.2278556823730469e-05, 2: 9.5367431640625e-07, 3: 3.349781036376953e-05}, \n",
    "        'param_linearsvc__C': {0: 0.1, 1: 0.1, 2: 10, 3: 10}, \n",
    "        'param_standardscaler__with_std': {0: True, 1: False, 2: True, 3: False}, \n",
    "        'params': {\n",
    "            0: {'linearsvc__C': 0.1, 'standardscaler__with_std': True}, \n",
    "            1: {'linearsvc__C': 0.1, 'standardscaler__with_std': False}, \n",
    "            2: {'linearsvc__C': 10, 'standardscaler__with_std': True}, \n",
    "            3: {'linearsvc__C': 10, 'standardscaler__with_std': False}\n",
    "        }, \n",
    "        'split0_test_accuracy': {0: 1.0, 1: 1.0, 2: 1.0, 3: 1.0}, \n",
    "        'split1_test_accuracy': {0: 1.0, 1: 1.0, 2: 1.0, 3: 1.0}, \n",
    "        'mean_test_accuracy': {0: 1.0, 1: 1.0, 2: 1.0, 3: 1.0}, \n",
    "        'std_test_accuracy': {0: 0.0, 1: 0.0, 2: 0.0, 3: 0.0}, \n",
    "        'rank_test_accuracy': {0: 1, 1: 1, 2: 1, 3: 1}, \n",
    "        'split0_test_f1': {0: 1.0, 1: 1.0, 2: 1.0, 3: 1.0}, \n",
    "        'split1_test_f1': {0: 1.0, 1: 1.0, 2: 1.0, 3: 1.0}, \n",
    "        'mean_test_f1': {0: 1.0, 1: 1.0, 2: 1.0, 3: 1.0}, \n",
    "        'std_test_f1': {0: 0.0, 1: 0.0, 2: 0.0, 3: 0.0}, \n",
    "        'rank_test_f1': {0: 1, 1: 1, 2: 1, 3: 1}\n",
    "    }\n",
    "}\n",
    "fake_row = {\n",
    "    'id': 1234,\n",
    "    'outcome': outcome,\n",
    "    'dataloader': 'something'\n",
    "}\n",
    "df = pd.DataFrame.from_records([fake_row])\n",
    "fw = FilterWidget(\n",
    "    df,\n",
    "    score_name='mean_test_accuracy,mean_test_f1',\n",
    "    keep_columns=['outcome']\n",
    ")\n",
    "fw.do_filter()\n",
    "fw.df\n"
   ]
  },
  {
   "cell_type": "code",
   "execution_count": null,
   "metadata": {},
   "outputs": [],
   "source": [
    "from pandasnotebooks._plot import plot_multi_scores\n",
    "\n",
    "plot_multi_scores(\n",
    "    fw.df,\n",
    "    score_names=['mean_test_f1', 'mean_test_accuracy']\n",
    ")"
   ]
  }
 ],
 "metadata": {
  "kernelspec": {
   "display_name": "Python 3",
   "language": "python",
   "name": "python3"
  },
  "language_info": {
   "codemirror_mode": {
    "name": "ipython",
    "version": 3
   },
   "file_extension": ".py",
   "mimetype": "text/x-python",
   "name": "python",
   "nbconvert_exporter": "python",
   "pygments_lexer": "ipython3",
   "version": "3.8.6"
  }
 },
 "nbformat": 4,
 "nbformat_minor": 4
}
