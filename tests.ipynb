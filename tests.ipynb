{
 "cells": [
  {
   "cell_type": "code",
   "execution_count": 1,
   "metadata": {
    "scrolled": true
   },
   "outputs": [
    {
     "data": {
      "application/vnd.jupyter.widget-view+json": {
       "model_id": "b94e09fdf3f64dd0a0153d23df2937bb",
       "version_major": 2,
       "version_minor": 0
      },
      "text/plain": [
       "VBox(children=(VBox(children=(Text(value='', description='row ID(s)', layout=Layout(width='70%'), style=Descri…"
      ]
     },
     "metadata": {},
     "output_type": "display_data"
    },
    {
     "name": "stdout",
     "output_type": "stream",
     "text": [
      "df loaded with shape (1, 14)\n"
     ]
    },
    {
     "data": {
      "text/html": [
       "<div>\n",
       "<style scoped>\n",
       "    .dataframe tbody tr th:only-of-type {\n",
       "        vertical-align: middle;\n",
       "    }\n",
       "\n",
       "    .dataframe tbody tr th {\n",
       "        vertical-align: top;\n",
       "    }\n",
       "\n",
       "    .dataframe thead th {\n",
       "        text-align: right;\n",
       "    }\n",
       "</style>\n",
       "<table border=\"1\" class=\"dataframe\">\n",
       "  <thead>\n",
       "    <tr style=\"text-align: right;\">\n",
       "      <th></th>\n",
       "      <th>id</th>\n",
       "      <th>project_name</th>\n",
       "      <th>date</th>\n",
       "      <th>git_commit_id</th>\n",
       "      <th>git_remote_url</th>\n",
       "      <th>git_is_dirty</th>\n",
       "      <th>sourcefile</th>\n",
       "      <th>config</th>\n",
       "      <th>dataloader</th>\n",
       "      <th>pipeline</th>\n",
       "      <th>evaluator</th>\n",
       "      <th>outcome</th>\n",
       "      <th>platform</th>\n",
       "      <th>requirements</th>\n",
       "    </tr>\n",
       "  </thead>\n",
       "  <tbody>\n",
       "    <tr>\n",
       "      <th>0</th>\n",
       "      <td>2756</td>\n",
       "      <td>cltc</td>\n",
       "      <td>2020-07-30 14:00:33.342421</td>\n",
       "      <td>031e7da24df03293645ca704410d05a8b339e735</td>\n",
       "      <td>git@git.uibk.ac.at:csak8736/cltc.git</td>\n",
       "      <td>False</td>\n",
       "      <td>plans/ool/concat_feature_union.py</td>\n",
       "      <td>\"\"\"Plan for calculating a feature union of spe...</td>\n",
       "      <td>{'corpus_path': 'data/processed/reddit/R-CLT',...</td>\n",
       "      <td>AggregationSingleModel</td>\n",
       "      <td>{'pipeline_parameters': {'data': ['base', 'ext...</td>\n",
       "      <td>{'cv_results': {'mean_fit_time': {'0': 228.972...</td>\n",
       "      <td>{'arch': ['64bit', 'ELF'], 'machine': 'x86_64'...</td>\n",
       "      <td>[absl-py==0.9.0, appdirs==1.4.4, argparse==1.4...</td>\n",
       "    </tr>\n",
       "  </tbody>\n",
       "</table>\n",
       "</div>"
      ],
      "text/plain": [
       "     id project_name                       date  \\\n",
       "0  2756         cltc 2020-07-30 14:00:33.342421   \n",
       "\n",
       "                              git_commit_id  \\\n",
       "0  031e7da24df03293645ca704410d05a8b339e735   \n",
       "\n",
       "                         git_remote_url  git_is_dirty  \\\n",
       "0  git@git.uibk.ac.at:csak8736/cltc.git         False   \n",
       "\n",
       "                          sourcefile  \\\n",
       "0  plans/ool/concat_feature_union.py   \n",
       "\n",
       "                                              config  \\\n",
       "0  \"\"\"Plan for calculating a feature union of spe...   \n",
       "\n",
       "                                          dataloader                pipeline  \\\n",
       "0  {'corpus_path': 'data/processed/reddit/R-CLT',...  AggregationSingleModel   \n",
       "\n",
       "                                           evaluator  \\\n",
       "0  {'pipeline_parameters': {'data': ['base', 'ext...   \n",
       "\n",
       "                                             outcome  \\\n",
       "0  {'cv_results': {'mean_fit_time': {'0': 228.972...   \n",
       "\n",
       "                                            platform  \\\n",
       "0  {'arch': ['64bit', 'ELF'], 'machine': 'x86_64'...   \n",
       "\n",
       "                                        requirements  \n",
       "0  [absl-py==0.9.0, appdirs==1.4.4, argparse==1.4...  "
      ]
     },
     "execution_count": 1,
     "metadata": {},
     "output_type": "execute_result"
    }
   ],
   "source": [
    "from pandasnotebooks._loader import LoaderWidget\n",
    "lw = LoaderWidget(\n",
    "    git_ids='031e7da24df03293645ca704410d05a8b339e735',\n",
    ")\n",
    "lw.load()\n",
    "lw.df"
   ]
  },
  {
   "cell_type": "code",
   "execution_count": 2,
   "metadata": {
    "scrolled": true
   },
   "outputs": [
    {
     "data": {
      "application/vnd.jupyter.widget-view+json": {
       "model_id": "dfd2d402519c421a821e129c0a475175",
       "version_major": 2,
       "version_minor": 0
      },
      "text/plain": [
       "VBox(children=(HBox(children=(VBox(children=(Button(description='All', style=ButtonStyle()), Button(descriptio…"
      ]
     },
     "metadata": {},
     "output_type": "display_data"
    },
    {
     "name": "stdout",
     "output_type": "stream",
     "text": [
      "extracted grid parameters\n"
     ]
    },
    {
     "data": {
      "text/html": [
       "<div>\n",
       "<style scoped>\n",
       "    .dataframe tbody tr th:only-of-type {\n",
       "        vertical-align: middle;\n",
       "    }\n",
       "\n",
       "    .dataframe tbody tr th {\n",
       "        vertical-align: top;\n",
       "    }\n",
       "\n",
       "    .dataframe thead th {\n",
       "        text-align: right;\n",
       "    }\n",
       "</style>\n",
       "<table border=\"1\" class=\"dataframe\">\n",
       "  <thead>\n",
       "    <tr style=\"text-align: right;\">\n",
       "      <th></th>\n",
       "      <th>mean_test_score</th>\n",
       "      <th>data</th>\n",
       "      <th>model__features__treegrams__tfidf__ngram_range</th>\n",
       "      <th>model__features__upos_ngrams__tfidf__ngram_range</th>\n",
       "    </tr>\n",
       "  </thead>\n",
       "  <tbody>\n",
       "    <tr>\n",
       "      <th>0</th>\n",
       "      <td>0.493878</td>\n",
       "      <td>base</td>\n",
       "      <td>[2, 3]</td>\n",
       "      <td>[2, 3]</td>\n",
       "    </tr>\n",
       "    <tr>\n",
       "      <th>1</th>\n",
       "      <td>0.085714</td>\n",
       "      <td>extra</td>\n",
       "      <td>[2, 3]</td>\n",
       "      <td>[2, 3]</td>\n",
       "    </tr>\n",
       "    <tr>\n",
       "      <th>2</th>\n",
       "      <td>0.471429</td>\n",
       "      <td>both</td>\n",
       "      <td>[2, 3]</td>\n",
       "      <td>[2, 3]</td>\n",
       "    </tr>\n",
       "  </tbody>\n",
       "</table>\n",
       "</div>"
      ],
      "text/plain": [
       "   mean_test_score   data model__features__treegrams__tfidf__ngram_range  \\\n",
       "0         0.493878   base                                         [2, 3]   \n",
       "1         0.085714  extra                                         [2, 3]   \n",
       "2         0.471429   both                                         [2, 3]   \n",
       "\n",
       "  model__features__upos_ngrams__tfidf__ngram_range  \n",
       "0                                           [2, 3]  \n",
       "1                                           [2, 3]  \n",
       "2                                           [2, 3]  "
      ]
     },
     "execution_count": 2,
     "metadata": {},
     "output_type": "execute_result"
    }
   ],
   "source": [
    "from pandasnotebooks._filter import FilterWidget\n",
    "fw = FilterWidget(\n",
    "    lw.df.fillna('N/A'),\n",
    "    keep_columns=['outcome']\n",
    ")\n",
    "fw.do_filter()\n",
    "fw.df\n"
   ]
  },
  {
   "cell_type": "code",
   "execution_count": 3,
   "metadata": {
    "scrolled": true
   },
   "outputs": [
    {
     "data": {
      "application/vnd.jupyter.widget-view+json": {
       "model_id": "70ce2282341d4f78bead45e9b2648032",
       "version_major": 2,
       "version_minor": 0
      },
      "text/plain": [
       "VBox(children=(Output(), HBox(children=(Checkbox(value=False, description='include index'), Text(value='l', de…"
      ]
     },
     "metadata": {},
     "output_type": "display_data"
    }
   ],
   "source": [
    "from pandasnotebooks._latex import LatexWidget\n",
    "latex_widget = LatexWidget(fw.df, set(lw.df['git_commit_id'].values))"
   ]
  },
  {
   "cell_type": "code",
   "execution_count": 4,
   "metadata": {
    "scrolled": true
   },
   "outputs": [
    {
     "data": {
      "application/vnd.jupyter.widget-view+json": {
       "model_id": "b1c03474401742afa64d0f792d4a5e9b",
       "version_major": 2,
       "version_minor": 0
      },
      "text/plain": [
       "VBox(children=(HBox(children=(SelectMultiple(description='Group By', index=(0,), options=('data', 'model__feat…"
      ]
     },
     "metadata": {},
     "output_type": "display_data"
    }
   ],
   "source": [
    "from pandasnotebooks._plot import PlotWidget\n",
    "pw = PlotWidget(fw.df, score_name='mean_test_score')"
   ]
  },
  {
   "cell_type": "code",
   "execution_count": 5,
   "metadata": {},
   "outputs": [
    {
     "data": {
      "application/vnd.jupyter.widget-view+json": {
       "model_id": "06b1f7b0c2294598bcb3d7ad74b9af40",
       "version_major": 2,
       "version_minor": 0
      },
      "text/plain": [
       "VBox(children=(HBox(children=(VBox(children=(Button(description='All', style=ButtonStyle()), Button(descriptio…"
      ]
     },
     "metadata": {},
     "output_type": "display_data"
    },
    {
     "name": "stdout",
     "output_type": "stream",
     "text": [
      "extracted grid parameters\n"
     ]
    },
    {
     "data": {
      "text/html": [
       "<div>\n",
       "<style scoped>\n",
       "    .dataframe tbody tr th:only-of-type {\n",
       "        vertical-align: middle;\n",
       "    }\n",
       "\n",
       "    .dataframe tbody tr th {\n",
       "        vertical-align: top;\n",
       "    }\n",
       "\n",
       "    .dataframe thead th {\n",
       "        text-align: right;\n",
       "    }\n",
       "</style>\n",
       "<table border=\"1\" class=\"dataframe\">\n",
       "  <thead>\n",
       "    <tr style=\"text-align: right;\">\n",
       "      <th></th>\n",
       "      <th>mean_test_accuracy</th>\n",
       "      <th>mean_test_f1</th>\n",
       "      <th>linearsvc__C</th>\n",
       "      <th>standardscaler__with_std</th>\n",
       "    </tr>\n",
       "  </thead>\n",
       "  <tbody>\n",
       "    <tr>\n",
       "      <th>0</th>\n",
       "      <td>1.0</td>\n",
       "      <td>1.0</td>\n",
       "      <td>0.1</td>\n",
       "      <td>True</td>\n",
       "    </tr>\n",
       "    <tr>\n",
       "      <th>1</th>\n",
       "      <td>1.0</td>\n",
       "      <td>1.0</td>\n",
       "      <td>0.1</td>\n",
       "      <td>False</td>\n",
       "    </tr>\n",
       "    <tr>\n",
       "      <th>2</th>\n",
       "      <td>1.0</td>\n",
       "      <td>1.0</td>\n",
       "      <td>10</td>\n",
       "      <td>True</td>\n",
       "    </tr>\n",
       "    <tr>\n",
       "      <th>3</th>\n",
       "      <td>1.0</td>\n",
       "      <td>1.0</td>\n",
       "      <td>10</td>\n",
       "      <td>False</td>\n",
       "    </tr>\n",
       "  </tbody>\n",
       "</table>\n",
       "</div>"
      ],
      "text/plain": [
       "   mean_test_accuracy  mean_test_f1 linearsvc__C standardscaler__with_std\n",
       "0                 1.0           1.0          0.1                     True\n",
       "1                 1.0           1.0          0.1                    False\n",
       "2                 1.0           1.0           10                     True\n",
       "3                 1.0           1.0           10                    False"
      ]
     },
     "execution_count": 5,
     "metadata": {},
     "output_type": "execute_result"
    }
   ],
   "source": [
    "import pandas as pd\n",
    "outcome = {\n",
    "    'cv_results': {\n",
    "        'mean_fit_time': {0: 0.0011463165283203125, 1: 0.0009317398071289062, 2: 0.0011485815048217773, 3: 0.000944972038269043}, \n",
    "        'std_fit_time': {0: 6.198883056640625e-06, 1: 4.76837158203125e-07, 2: 1.2516975402832031e-05, 3: 1.1920928955078125e-07}, \n",
    "        'mean_score_time': {0: 0.0015609264373779297, 1: 0.0014744997024536133, 2: 0.0014700889587402344, 3: 0.0015102624893188477}, \n",
    "        'std_score_time': {0: 4.649162292480469e-05, 1: 1.2278556823730469e-05, 2: 9.5367431640625e-07, 3: 3.349781036376953e-05}, \n",
    "        'param_linearsvc__C': {0: 0.1, 1: 0.1, 2: 10, 3: 10}, \n",
    "        'param_standardscaler__with_std': {0: True, 1: False, 2: True, 3: False}, \n",
    "        'params': {\n",
    "            0: {'linearsvc__C': 0.1, 'standardscaler__with_std': True}, \n",
    "            1: {'linearsvc__C': 0.1, 'standardscaler__with_std': False}, \n",
    "            2: {'linearsvc__C': 10, 'standardscaler__with_std': True}, \n",
    "            3: {'linearsvc__C': 10, 'standardscaler__with_std': False}\n",
    "        }, \n",
    "        'split0_test_accuracy': {0: 1.0, 1: 1.0, 2: 1.0, 3: 1.0}, \n",
    "        'split1_test_accuracy': {0: 1.0, 1: 1.0, 2: 1.0, 3: 1.0}, \n",
    "        'mean_test_accuracy': {0: 1.0, 1: 1.0, 2: 1.0, 3: 1.0}, \n",
    "        'std_test_accuracy': {0: 0.0, 1: 0.0, 2: 0.0, 3: 0.0}, \n",
    "        'rank_test_accuracy': {0: 1, 1: 1, 2: 1, 3: 1}, \n",
    "        'split0_test_f1': {0: 1.0, 1: 1.0, 2: 1.0, 3: 1.0}, \n",
    "        'split1_test_f1': {0: 1.0, 1: 1.0, 2: 1.0, 3: 1.0}, \n",
    "        'mean_test_f1': {0: 1.0, 1: 1.0, 2: 1.0, 3: 1.0}, \n",
    "        'std_test_f1': {0: 0.0, 1: 0.0, 2: 0.0, 3: 0.0}, \n",
    "        'rank_test_f1': {0: 1, 1: 1, 2: 1, 3: 1}\n",
    "    }\n",
    "}\n",
    "fake_row = {\n",
    "    'id': 1234,\n",
    "    'outcome': outcome,\n",
    "    'dataloader': 'something'\n",
    "}\n",
    "df = pd.DataFrame.from_records([fake_row])\n",
    "fw = FilterWidget(\n",
    "    df,\n",
    "    score_name='mean_test_accuracy,mean_test_f1',\n",
    "    keep_columns=['outcome']\n",
    ")\n",
    "fw.do_filter()\n",
    "fw.df\n"
   ]
  },
  {
   "cell_type": "code",
   "execution_count": 6,
   "metadata": {},
   "outputs": [
    {
     "data": {
      "application/vnd.jupyter.widget-view+json": {
       "model_id": "e526c047e9774734bb8d3f19e674ca2c",
       "version_major": 2,
       "version_minor": 0
      },
      "text/plain": [
       "Tab(children=(Output(), Output()), _titles={'0': 'mean_test_f1', '1': 'mean_test_accuracy'})"
      ]
     },
     "metadata": {},
     "output_type": "display_data"
    }
   ],
   "source": [
    "from pandasnotebooks._plot import plot_multi_scores\n",
    "\n",
    "plot_multi_scores(\n",
    "    fw.df,\n",
    "    score_names=['mean_test_f1', 'mean_test_accuracy']\n",
    ")"
   ]
  }
 ],
 "metadata": {
  "kernelspec": {
   "display_name": "Python 3",
   "language": "python",
   "name": "python3"
  },
  "language_info": {
   "codemirror_mode": {
    "name": "ipython",
    "version": 3
   },
   "file_extension": ".py",
   "mimetype": "text/x-python",
   "name": "python",
   "nbconvert_exporter": "python",
   "pygments_lexer": "ipython3",
   "version": "3.8.5"
  }
 },
 "nbformat": 4,
 "nbformat_minor": 4
}
