{
 "cells": [
  {
   "cell_type": "code",
   "execution_count": 12,
   "metadata": {},
   "outputs": [],
   "source": [
    "import pandas as pd\n",
    "outcome = {\n",
    "    'cv_results': {\n",
    "        'mean_fit_time': {0: 0.0011463165283203125, 1: 0.0009317398071289062, 2: 0.0011485815048217773, 3: 0.000944972038269043}, \n",
    "        'std_fit_time': {0: 6.198883056640625e-06, 1: 4.76837158203125e-07, 2: 1.2516975402832031e-05, 3: 1.1920928955078125e-07}, \n",
    "        'mean_score_time': {0: 0.0015609264373779297, 1: 0.0014744997024536133, 2: 0.0014700889587402344, 3: 0.0015102624893188477}, \n",
    "        'std_score_time': {0: 4.649162292480469e-05, 1: 1.2278556823730469e-05, 2: 9.5367431640625e-07, 3: 3.349781036376953e-05}, \n",
    "        'param_linearsvc__C': {0: 0.1, 1: 0.1, 2: 10, 3: 10}, \n",
    "        'param_standardscaler__with_std': {0: True, 1: False, 2: True, 3: False}, \n",
    "        'params': {\n",
    "            0: {'linearsvc__C': 0.1, 'standardscaler__with_std': True}, \n",
    "            1: {'linearsvc__C': 0.1, 'standardscaler__with_std': False}, \n",
    "            2: {'linearsvc__C': 10, 'standardscaler__with_std': True}, \n",
    "            3: {'linearsvc__C': 10, 'standardscaler__with_std': False}\n",
    "        }, \n",
    "        'split0_test_accuracy': {0: 1.0, 1: 1.0, 2: 1.0, 3: 1.0}, \n",
    "        'split1_test_accuracy': {0: 1.0, 1: 1.0, 2: 1.0, 3: 1.0}, \n",
    "        'mean_test_accuracy': {0: 1.0, 1: 1.0, 2: 1.0, 3: 1.0}, \n",
    "        'std_test_accuracy': {0: 0.0, 1: 0.0, 2: 0.0, 3: 0.0}, \n",
    "        'rank_test_accuracy': {0: 1, 1: 1, 2: 1, 3: 1}, \n",
    "        'split0_test_f1': {0: 1.0, 1: 1.0, 2: 1.0, 3: 1.0}, \n",
    "        'split1_test_f1': {0: 1.0, 1: 1.0, 2: 1.0, 3: 1.0}, \n",
    "        'mean_test_f1': {0: 1.0, 1: 1.0, 2: 1.0, 3: 1.0}, \n",
    "        'std_test_f1': {0: 0.0, 1: 0.0, 2: 0.0, 3: 0.0}, \n",
    "        'rank_test_f1': {0: 1, 1: 1, 2: 1, 3: 1}\n",
    "    }\n",
    "}\n",
    "fake_row = {\n",
    "    'id': 1234,\n",
    "    'outcome': outcome,\n",
    "    'dataloader': 'something'\n",
    "}\n",
    "df = pd.DataFrame.from_records([fake_row])\n",
    "\n",
    "# from pandasnotebooks import FilterWidget\n",
    "# fw = FilterWidget(\n",
    "#     df,\n",
    "#     score_name='mean_test_accuracy,mean_test_f1',\n",
    "#     keep_columns=['outcome']\n",
    "# )\n",
    "# fw.do_filter()\n",
    "# fw.df\n",
    "\n",
    "from dbispipeline.analytics import extract_gridsearch_parameters\n",
    "df = extract_gridsearch_parameters(df, 'mean_test_accuracy')"
   ]
  },
  {
   "cell_type": "code",
   "execution_count": 13,
   "metadata": {},
   "outputs": [
    {
     "data": {
      "application/vnd.jupyter.widget-view+json": {
       "model_id": "e88f9a4f649b4f31b0c56280077ddc2e",
       "version_major": 2,
       "version_minor": 0
      },
      "text/plain": [
       "VBox(children=(HBox(children=(SelectMultiple(description='Group By', index=(0,), options=(None,), value=(None,…"
      ]
     },
     "metadata": {},
     "output_type": "display_data"
    }
   ],
   "source": [
    "from pandasnotebooks._plot import PlotWidget\n",
    "pw = PlotWidget(df)"
   ]
  },
  {
   "cell_type": "code",
   "execution_count": 3,
   "metadata": {},
   "outputs": [
    {
     "data": {
      "application/vnd.jupyter.widget-view+json": {
       "model_id": "63fe1ee960f048dfb6083807749c3450",
       "version_major": 2,
       "version_minor": 0
      },
      "text/plain": [
       "Tab(children=(Output(), Output()), _titles={'0': 'mean_test_f1', '1': 'mean_test_accuracy'})"
      ]
     },
     "metadata": {},
     "output_type": "display_data"
    },
    {
     "data": {
      "text/plain": [
       "{}"
      ]
     },
     "execution_count": 3,
     "metadata": {},
     "output_type": "execute_result"
    }
   ],
   "source": [
    "from pandasnotebooks._plot import plot_multi_scores\n",
    "\n",
    "plot_multi_scores(\n",
    "    fw.df,\n",
    "    score_names=['mean_test_f1', 'mean_test_accuracy']\n",
    ")"
   ]
  },
  {
   "cell_type": "code",
   "execution_count": 4,
   "metadata": {},
   "outputs": [
    {
     "ename": "NameError",
     "evalue": "name 'lw' is not defined",
     "output_type": "error",
     "traceback": [
      "\u001b[0;31m---------------------------------------------------------------------------\u001b[0m",
      "\u001b[0;31mNameError\u001b[0m                                 Traceback (most recent call last)",
      "\u001b[0;32m<ipython-input-4-cb1017c06599>\u001b[0m in \u001b[0;36m<module>\u001b[0;34m\u001b[0m\n\u001b[1;32m      1\u001b[0m \u001b[0;32mfrom\u001b[0m \u001b[0mpandasnotebooks\u001b[0m\u001b[0;34m.\u001b[0m\u001b[0m_latex\u001b[0m \u001b[0;32mimport\u001b[0m \u001b[0mLatexWidget\u001b[0m\u001b[0;34m\u001b[0m\u001b[0;34m\u001b[0m\u001b[0m\n\u001b[0;32m----> 2\u001b[0;31m \u001b[0mlatex_widget\u001b[0m \u001b[0;34m=\u001b[0m \u001b[0mLatexWidget\u001b[0m\u001b[0;34m(\u001b[0m\u001b[0mfw\u001b[0m\u001b[0;34m.\u001b[0m\u001b[0mdf\u001b[0m\u001b[0;34m,\u001b[0m \u001b[0mset\u001b[0m\u001b[0;34m(\u001b[0m\u001b[0mlw\u001b[0m\u001b[0;34m.\u001b[0m\u001b[0mdf\u001b[0m\u001b[0;34m[\u001b[0m\u001b[0;34m'git_commit_id'\u001b[0m\u001b[0;34m]\u001b[0m\u001b[0;34m.\u001b[0m\u001b[0mvalues\u001b[0m\u001b[0;34m)\u001b[0m\u001b[0;34m)\u001b[0m\u001b[0;34m\u001b[0m\u001b[0;34m\u001b[0m\u001b[0m\n\u001b[0m",
      "\u001b[0;31mNameError\u001b[0m: name 'lw' is not defined"
     ]
    }
   ],
   "source": [
    "from pandasnotebooks._latex import LatexWidget\n",
    "latex_widget = LatexWidget(fw.df, set(lw.df['git_commit_id'].values))"
   ]
  }
 ],
 "metadata": {
  "kernelspec": {
   "display_name": "Python 3",
   "language": "python",
   "name": "python3"
  },
  "language_info": {
   "codemirror_mode": {
    "name": "ipython",
    "version": 3
   },
   "file_extension": ".py",
   "mimetype": "text/x-python",
   "name": "python",
   "nbconvert_exporter": "python",
   "pygments_lexer": "ipython3",
   "version": "3.7.5"
  }
 },
 "nbformat": 4,
 "nbformat_minor": 4
}
