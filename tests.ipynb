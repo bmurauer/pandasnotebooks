{
 "cells": [
  {
   "cell_type": "code",
   "execution_count": 1,
   "metadata": {
    "scrolled": true
   },
   "outputs": [
    {
     "data": {
      "application/vnd.jupyter.widget-view+json": {
       "model_id": "0f25a10ece06451bab9125eede153a53",
       "version_major": 2,
       "version_minor": 0
      },
      "text/plain": [
       "VBox(children=(VBox(children=(Text(value='6998-6999', description='row ID(s)', layout=Layout(width='70%'), sty…"
      ]
     },
     "metadata": {},
     "output_type": "display_data"
    },
    {
     "name": "stdout",
     "output_type": "stream",
     "text": [
      "df loaded with shape (2, 14)\n"
     ]
    },
    {
     "data": {
      "text/html": [
       "<div>\n",
       "<style scoped>\n",
       "    .dataframe tbody tr th:only-of-type {\n",
       "        vertical-align: middle;\n",
       "    }\n",
       "\n",
       "    .dataframe tbody tr th {\n",
       "        vertical-align: top;\n",
       "    }\n",
       "\n",
       "    .dataframe thead th {\n",
       "        text-align: right;\n",
       "    }\n",
       "</style>\n",
       "<table border=\"1\" class=\"dataframe\">\n",
       "  <thead>\n",
       "    <tr style=\"text-align: right;\">\n",
       "      <th></th>\n",
       "      <th>id</th>\n",
       "      <th>project_name</th>\n",
       "      <th>date</th>\n",
       "      <th>git_commit_id</th>\n",
       "      <th>git_remote_url</th>\n",
       "      <th>git_is_dirty</th>\n",
       "      <th>sourcefile</th>\n",
       "      <th>config</th>\n",
       "      <th>dataloader</th>\n",
       "      <th>pipeline</th>\n",
       "      <th>evaluator</th>\n",
       "      <th>outcome</th>\n",
       "      <th>platform</th>\n",
       "      <th>requirements</th>\n",
       "    </tr>\n",
       "  </thead>\n",
       "  <tbody>\n",
       "    <tr>\n",
       "      <th>0</th>\n",
       "      <td>6998</td>\n",
       "      <td>cltc</td>\n",
       "      <td>2020-10-13 03:23:51.559855</td>\n",
       "      <td>683ca8c193cb6de5b773fc624a38b839f0834135</td>\n",
       "      <td>git@git.uibk.ac.at:csak8736/cltc.git</td>\n",
       "      <td>False</td>\n",
       "      <td>plans/grammar/cross_language.py</td>\n",
       "      <td>\"\"\"\\nThis is the plan for the main experiment ...</td>\n",
       "      <td>{'train_loader': 'DataframeLoader', 'train_loa...</td>\n",
       "      <td>{'features': {'w': 'str', 'c': 'str', 'l': 'st...</td>\n",
       "      <td>{'pipeline_parameters': {'features__selected_m...</td>\n",
       "      <td>{'cv_results': {'mean_fit_time': {'0': 1.63045...</td>\n",
       "      <td>{'arch': ['64bit', 'ELF'], 'machine': 'x86_64'...</td>\n",
       "      <td>[appdirs==1.4.4, argon2-cffi==20.1.0, argparse...</td>\n",
       "    </tr>\n",
       "    <tr>\n",
       "      <th>1</th>\n",
       "      <td>6999</td>\n",
       "      <td>cltc</td>\n",
       "      <td>2020-10-13 08:16:10.301734</td>\n",
       "      <td>683ca8c193cb6de5b773fc624a38b839f0834135</td>\n",
       "      <td>git@git.uibk.ac.at:csak8736/cltc.git</td>\n",
       "      <td>False</td>\n",
       "      <td>plans/grammar/cross_language.py</td>\n",
       "      <td>\"\"\"\\nThis is the plan for the main experiment ...</td>\n",
       "      <td>{'train_loader': 'DataframeLoader', 'train_loa...</td>\n",
       "      <td>{'features': {'w': 'str', 'c': 'str', 'l': 'st...</td>\n",
       "      <td>{'pipeline_parameters': {'features__selected_m...</td>\n",
       "      <td>{'cv_results': {'mean_fit_time': {'0': 0.93410...</td>\n",
       "      <td>{'arch': ['64bit', 'ELF'], 'machine': 'x86_64'...</td>\n",
       "      <td>[appdirs==1.4.4, argon2-cffi==20.1.0, argparse...</td>\n",
       "    </tr>\n",
       "  </tbody>\n",
       "</table>\n",
       "</div>"
      ],
      "text/plain": [
       "     id project_name                       date  \\\n",
       "0  6998         cltc 2020-10-13 03:23:51.559855   \n",
       "1  6999         cltc 2020-10-13 08:16:10.301734   \n",
       "\n",
       "                              git_commit_id  \\\n",
       "0  683ca8c193cb6de5b773fc624a38b839f0834135   \n",
       "1  683ca8c193cb6de5b773fc624a38b839f0834135   \n",
       "\n",
       "                         git_remote_url  git_is_dirty  \\\n",
       "0  git@git.uibk.ac.at:csak8736/cltc.git         False   \n",
       "1  git@git.uibk.ac.at:csak8736/cltc.git         False   \n",
       "\n",
       "                        sourcefile  \\\n",
       "0  plans/grammar/cross_language.py   \n",
       "1  plans/grammar/cross_language.py   \n",
       "\n",
       "                                              config  \\\n",
       "0  \"\"\"\\nThis is the plan for the main experiment ...   \n",
       "1  \"\"\"\\nThis is the plan for the main experiment ...   \n",
       "\n",
       "                                          dataloader  \\\n",
       "0  {'train_loader': 'DataframeLoader', 'train_loa...   \n",
       "1  {'train_loader': 'DataframeLoader', 'train_loa...   \n",
       "\n",
       "                                            pipeline  \\\n",
       "0  {'features': {'w': 'str', 'c': 'str', 'l': 'st...   \n",
       "1  {'features': {'w': 'str', 'c': 'str', 'l': 'st...   \n",
       "\n",
       "                                           evaluator  \\\n",
       "0  {'pipeline_parameters': {'features__selected_m...   \n",
       "1  {'pipeline_parameters': {'features__selected_m...   \n",
       "\n",
       "                                             outcome  \\\n",
       "0  {'cv_results': {'mean_fit_time': {'0': 1.63045...   \n",
       "1  {'cv_results': {'mean_fit_time': {'0': 0.93410...   \n",
       "\n",
       "                                            platform  \\\n",
       "0  {'arch': ['64bit', 'ELF'], 'machine': 'x86_64'...   \n",
       "1  {'arch': ['64bit', 'ELF'], 'machine': 'x86_64'...   \n",
       "\n",
       "                                        requirements  \n",
       "0  [appdirs==1.4.4, argon2-cffi==20.1.0, argparse...  \n",
       "1  [appdirs==1.4.4, argon2-cffi==20.1.0, argparse...  "
      ]
     },
     "execution_count": 1,
     "metadata": {},
     "output_type": "execute_result"
    }
   ],
   "source": [
    "from pandasnotebooks._loader import LoaderWidget\n",
    "lw = LoaderWidget(\n",
    "    #row_ids=\"6998,6999\"\n",
    "    row_ids=\"6998-6999\"\n",
    "    #git_ids='031e7da24df03293645ca704410d05a8b339e735',\n",
    ")\n",
    "lw.load()\n",
    "lw.df"
   ]
  },
  {
   "cell_type": "code",
   "execution_count": 2,
   "metadata": {
    "scrolled": true
   },
   "outputs": [
    {
     "data": {
      "application/vnd.jupyter.widget-view+json": {
       "model_id": "cf25a9bc3df844b38dc82c9c208a4294",
       "version_major": 2,
       "version_minor": 0
      },
      "text/plain": [
       "VBox(children=(HBox(children=(VBox(children=(Button(description='All', style=ButtonStyle()), Button(descriptio…"
      ]
     },
     "metadata": {},
     "output_type": "display_data"
    },
    {
     "ename": "KeyError",
     "evalue": "'mean_test_score'",
     "output_type": "error",
     "traceback": [
      "\u001b[0;31m---------------------------------------------------------------------------\u001b[0m",
      "\u001b[0;31mKeyError\u001b[0m                                  Traceback (most recent call last)",
      "\u001b[0;32m<ipython-input-2-01b9caf89d16>\u001b[0m in \u001b[0;36m<module>\u001b[0;34m\u001b[0m\n\u001b[1;32m      4\u001b[0m     \u001b[0mkeep_columns\u001b[0m\u001b[0;34m=\u001b[0m\u001b[0;34m[\u001b[0m\u001b[0;34m'outcome'\u001b[0m\u001b[0;34m]\u001b[0m\u001b[0;34m\u001b[0m\u001b[0;34m\u001b[0m\u001b[0m\n\u001b[1;32m      5\u001b[0m )\n\u001b[0;32m----> 6\u001b[0;31m \u001b[0mfw\u001b[0m\u001b[0;34m.\u001b[0m\u001b[0mdo_filter\u001b[0m\u001b[0;34m(\u001b[0m\u001b[0;34m)\u001b[0m\u001b[0;34m\u001b[0m\u001b[0;34m\u001b[0m\u001b[0m\n\u001b[0m\u001b[1;32m      7\u001b[0m \u001b[0mfw\u001b[0m\u001b[0;34m.\u001b[0m\u001b[0mdf\u001b[0m\u001b[0;34m\u001b[0m\u001b[0;34m\u001b[0m\u001b[0m\n",
      "\u001b[0;32m~/git/python/pandasnotebooks/pandasnotebooks/_filter.py\u001b[0m in \u001b[0;36mdo_filter\u001b[0;34m(self, *args)\u001b[0m\n\u001b[1;32m     81\u001b[0m         \u001b[0;32mif\u001b[0m \u001b[0mself\u001b[0m\u001b[0;34m.\u001b[0m\u001b[0mextract_grid_params\u001b[0m\u001b[0;34m.\u001b[0m\u001b[0mvalue\u001b[0m\u001b[0;34m:\u001b[0m\u001b[0;34m\u001b[0m\u001b[0;34m\u001b[0m\u001b[0m\n\u001b[1;32m     82\u001b[0m             \u001b[0mscore_names\u001b[0m \u001b[0;34m=\u001b[0m \u001b[0mself\u001b[0m\u001b[0;34m.\u001b[0m\u001b[0mscore_name\u001b[0m\u001b[0;34m.\u001b[0m\u001b[0mvalue\u001b[0m\u001b[0;34m.\u001b[0m\u001b[0msplit\u001b[0m\u001b[0;34m(\u001b[0m\u001b[0;34m','\u001b[0m\u001b[0;34m)\u001b[0m\u001b[0;34m\u001b[0m\u001b[0;34m\u001b[0m\u001b[0m\n\u001b[0;32m---> 83\u001b[0;31m             \u001b[0mself\u001b[0m\u001b[0;34m.\u001b[0m\u001b[0mdf\u001b[0m \u001b[0;34m=\u001b[0m \u001b[0mextract_gridsearch_parameters\u001b[0m\u001b[0;34m(\u001b[0m\u001b[0mself\u001b[0m\u001b[0;34m.\u001b[0m\u001b[0mdf\u001b[0m\u001b[0;34m,\u001b[0m \u001b[0mscore_names\u001b[0m\u001b[0;34m)\u001b[0m\u001b[0;34m\u001b[0m\u001b[0;34m\u001b[0m\u001b[0m\n\u001b[0m\u001b[1;32m     84\u001b[0m             \u001b[0mprint\u001b[0m\u001b[0;34m(\u001b[0m\u001b[0;34m'extracted grid parameters'\u001b[0m\u001b[0;34m)\u001b[0m\u001b[0;34m\u001b[0m\u001b[0;34m\u001b[0m\u001b[0m\n",
      "\u001b[0;32m~/.cache/pypoetry/virtualenvs/pandasnotebooks-m70A1lHY-py3.8/lib/python3.8/site-packages/dbispipeline/analytics.py\u001b[0m in \u001b[0;36mextract_gridsearch_parameters\u001b[0;34m(df, score_name, drop_outcome, prefix_parameter_names)\u001b[0m\n\u001b[1;32m    243\u001b[0m \u001b[0;34m\u001b[0m\u001b[0m\n\u001b[1;32m    244\u001b[0m             \u001b[0;32mfor\u001b[0m \u001b[0mscore\u001b[0m \u001b[0;32min\u001b[0m \u001b[0mscore_name\u001b[0m\u001b[0;34m:\u001b[0m\u001b[0;34m\u001b[0m\u001b[0;34m\u001b[0m\u001b[0m\n\u001b[0;32m--> 245\u001b[0;31m                 \u001b[0mresult_row\u001b[0m\u001b[0;34m[\u001b[0m\u001b[0mscore\u001b[0m\u001b[0;34m]\u001b[0m \u001b[0;34m=\u001b[0m \u001b[0mcv\u001b[0m\u001b[0;34m[\u001b[0m\u001b[0mscore\u001b[0m\u001b[0;34m]\u001b[0m\u001b[0;34m[\u001b[0m\u001b[0mcombination_id\u001b[0m\u001b[0;34m]\u001b[0m\u001b[0;34m\u001b[0m\u001b[0;34m\u001b[0m\u001b[0m\n\u001b[0m\u001b[1;32m    246\u001b[0m             result_row.update(\n\u001b[1;32m    247\u001b[0m                 _read_parameters(combination,\n",
      "\u001b[0;31mKeyError\u001b[0m: 'mean_test_score'"
     ]
    }
   ],
   "source": [
    "from pandasnotebooks._filter import FilterWidget\n",
    "fw = FilterWidget(\n",
    "    lw.df.fillna('N/A'),\n",
    "    keep_columns=['outcome']\n",
    ")\n",
    "fw.do_filter()\n",
    "fw.df\n"
   ]
  },
  {
   "cell_type": "code",
   "execution_count": null,
   "metadata": {
    "scrolled": true
   },
   "outputs": [],
   "source": [
    "from pandasnotebooks._latex import LatexWidget\n",
    "latex_widget = LatexWidget(fw.df, set(lw.df['git_commit_id'].values))"
   ]
  },
  {
   "cell_type": "code",
   "execution_count": null,
   "metadata": {
    "scrolled": true
   },
   "outputs": [],
   "source": [
    "from pandasnotebooks._plot import PlotWidget\n",
    "pw = PlotWidget(fw.df, score_name='mean_test_score')"
   ]
  },
  {
   "cell_type": "code",
   "execution_count": null,
   "metadata": {},
   "outputs": [],
   "source": [
    "import pandas as pd\n",
    "outcome = {\n",
    "    'cv_results': {\n",
    "        'mean_fit_time': {0: 0.0011463165283203125, 1: 0.0009317398071289062, 2: 0.0011485815048217773, 3: 0.000944972038269043}, \n",
    "        'std_fit_time': {0: 6.198883056640625e-06, 1: 4.76837158203125e-07, 2: 1.2516975402832031e-05, 3: 1.1920928955078125e-07}, \n",
    "        'mean_score_time': {0: 0.0015609264373779297, 1: 0.0014744997024536133, 2: 0.0014700889587402344, 3: 0.0015102624893188477}, \n",
    "        'std_score_time': {0: 4.649162292480469e-05, 1: 1.2278556823730469e-05, 2: 9.5367431640625e-07, 3: 3.349781036376953e-05}, \n",
    "        'param_linearsvc__C': {0: 0.1, 1: 0.1, 2: 10, 3: 10}, \n",
    "        'param_standardscaler__with_std': {0: True, 1: False, 2: True, 3: False}, \n",
    "        'params': {\n",
    "            0: {'linearsvc__C': 0.1, 'standardscaler__with_std': True}, \n",
    "            1: {'linearsvc__C': 0.1, 'standardscaler__with_std': False}, \n",
    "            2: {'linearsvc__C': 10, 'standardscaler__with_std': True}, \n",
    "            3: {'linearsvc__C': 10, 'standardscaler__with_std': False}\n",
    "        }, \n",
    "        'split0_test_accuracy': {0: 1.0, 1: 1.0, 2: 1.0, 3: 1.0}, \n",
    "        'split1_test_accuracy': {0: 1.0, 1: 1.0, 2: 1.0, 3: 1.0}, \n",
    "        'mean_test_accuracy': {0: 1.0, 1: 1.0, 2: 1.0, 3: 1.0}, \n",
    "        'std_test_accuracy': {0: 0.0, 1: 0.0, 2: 0.0, 3: 0.0}, \n",
    "        'rank_test_accuracy': {0: 1, 1: 1, 2: 1, 3: 1}, \n",
    "        'split0_test_f1': {0: 1.0, 1: 1.0, 2: 1.0, 3: 1.0}, \n",
    "        'split1_test_f1': {0: 1.0, 1: 1.0, 2: 1.0, 3: 1.0}, \n",
    "        'mean_test_f1': {0: 1.0, 1: 1.0, 2: 1.0, 3: 1.0}, \n",
    "        'std_test_f1': {0: 0.0, 1: 0.0, 2: 0.0, 3: 0.0}, \n",
    "        'rank_test_f1': {0: 1, 1: 1, 2: 1, 3: 1}\n",
    "    }\n",
    "}\n",
    "fake_row = {\n",
    "    'id': 1234,\n",
    "    'outcome': outcome,\n",
    "    'dataloader': 'something'\n",
    "}\n",
    "df = pd.DataFrame.from_records([fake_row])\n",
    "fw = FilterWidget(\n",
    "    df,\n",
    "    score_name='mean_test_accuracy,mean_test_f1',\n",
    "    keep_columns=['outcome']\n",
    ")\n",
    "fw.do_filter()\n",
    "fw.df\n"
   ]
  },
  {
   "cell_type": "code",
   "execution_count": null,
   "metadata": {},
   "outputs": [],
   "source": [
    "from pandasnotebooks._plot import plot_multi_scores\n",
    "\n",
    "plot_multi_scores(\n",
    "    fw.df,\n",
    "    score_names=['mean_test_f1', 'mean_test_accuracy']\n",
    ")"
   ]
  }
 ],
 "metadata": {
  "kernelspec": {
   "display_name": "Python 3",
   "language": "python",
   "name": "python3"
  },
  "language_info": {
   "codemirror_mode": {
    "name": "ipython",
    "version": 3
   },
   "file_extension": ".py",
   "mimetype": "text/x-python",
   "name": "python",
   "nbconvert_exporter": "python",
   "pygments_lexer": "ipython3",
   "version": "3.8.6"
  }
 },
 "nbformat": 4,
 "nbformat_minor": 4
}
