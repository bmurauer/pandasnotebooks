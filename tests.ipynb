{
 "cells": [
  {
   "cell_type": "code",
   "execution_count": 1,
   "metadata": {
    "scrolled": true
   },
   "outputs": [
    {
     "data": {
      "application/vnd.jupyter.widget-view+json": {
       "model_id": "b662cfb935664e5dae5b8328dacfc82a",
       "version_major": 2,
       "version_minor": 0
      },
      "text/plain": [
       "VBox(children=(VBox(children=(Text(value='', description='row ID(s)', layout=Layout(width='70%'), style=Descri…"
      ]
     },
     "metadata": {},
     "output_type": "display_data"
    },
    {
     "name": "stdout",
     "output_type": "stream",
     "text": [
      "df loaded with shape (1, 14)\n"
     ]
    },
    {
     "data": {
      "text/html": [
       "<div>\n",
       "<style scoped>\n",
       "    .dataframe tbody tr th:only-of-type {\n",
       "        vertical-align: middle;\n",
       "    }\n",
       "\n",
       "    .dataframe tbody tr th {\n",
       "        vertical-align: top;\n",
       "    }\n",
       "\n",
       "    .dataframe thead th {\n",
       "        text-align: right;\n",
       "    }\n",
       "</style>\n",
       "<table border=\"1\" class=\"dataframe\">\n",
       "  <thead>\n",
       "    <tr style=\"text-align: right;\">\n",
       "      <th></th>\n",
       "      <th>id</th>\n",
       "      <th>project_name</th>\n",
       "      <th>date</th>\n",
       "      <th>git_commit_id</th>\n",
       "      <th>git_remote_url</th>\n",
       "      <th>git_is_dirty</th>\n",
       "      <th>sourcefile</th>\n",
       "      <th>config</th>\n",
       "      <th>dataloader</th>\n",
       "      <th>pipeline</th>\n",
       "      <th>evaluator</th>\n",
       "      <th>outcome</th>\n",
       "      <th>platform</th>\n",
       "      <th>requirements</th>\n",
       "    </tr>\n",
       "  </thead>\n",
       "  <tbody>\n",
       "    <tr>\n",
       "      <th>0</th>\n",
       "      <td>2756</td>\n",
       "      <td>cltc</td>\n",
       "      <td>2020-07-30 14:00:33.342421</td>\n",
       "      <td>031e7da24df03293645ca704410d05a8b339e735</td>\n",
       "      <td>git@git.uibk.ac.at:csak8736/cltc.git</td>\n",
       "      <td>False</td>\n",
       "      <td>plans/ool/concat_feature_union.py</td>\n",
       "      <td>\"\"\"Plan for calculating a feature union of spe...</td>\n",
       "      <td>{'corpus_path': 'data/processed/reddit/R-CLT',...</td>\n",
       "      <td>AggregationSingleModel</td>\n",
       "      <td>{'pipeline_parameters': {'data': ['base', 'ext...</td>\n",
       "      <td>{'cv_results': {'mean_fit_time': {'0': 228.972...</td>\n",
       "      <td>{'arch': ['64bit', 'ELF'], 'machine': 'x86_64'...</td>\n",
       "      <td>[absl-py==0.9.0, appdirs==1.4.4, argparse==1.4...</td>\n",
       "    </tr>\n",
       "  </tbody>\n",
       "</table>\n",
       "</div>"
      ],
      "text/plain": [
       "     id project_name                       date  \\\n",
       "0  2756         cltc 2020-07-30 14:00:33.342421   \n",
       "\n",
       "                              git_commit_id  \\\n",
       "0  031e7da24df03293645ca704410d05a8b339e735   \n",
       "\n",
       "                         git_remote_url  git_is_dirty  \\\n",
       "0  git@git.uibk.ac.at:csak8736/cltc.git         False   \n",
       "\n",
       "                          sourcefile  \\\n",
       "0  plans/ool/concat_feature_union.py   \n",
       "\n",
       "                                              config  \\\n",
       "0  \"\"\"Plan for calculating a feature union of spe...   \n",
       "\n",
       "                                          dataloader                pipeline  \\\n",
       "0  {'corpus_path': 'data/processed/reddit/R-CLT',...  AggregationSingleModel   \n",
       "\n",
       "                                           evaluator  \\\n",
       "0  {'pipeline_parameters': {'data': ['base', 'ext...   \n",
       "\n",
       "                                             outcome  \\\n",
       "0  {'cv_results': {'mean_fit_time': {'0': 228.972...   \n",
       "\n",
       "                                            platform  \\\n",
       "0  {'arch': ['64bit', 'ELF'], 'machine': 'x86_64'...   \n",
       "\n",
       "                                        requirements  \n",
       "0  [absl-py==0.9.0, appdirs==1.4.4, argparse==1.4...  "
      ]
     },
     "execution_count": 1,
     "metadata": {},
     "output_type": "execute_result"
    }
   ],
   "source": [
    "from pandasnotebooks._loader2 import LoaderWidget\n",
    "lw = LoaderWidget(\n",
    "    git_ids='031e7da24df03293645ca704410d05a8b339e735',\n",
    ")\n",
    "lw.load()\n",
    "lw.df"
   ]
  },
  {
   "cell_type": "code",
   "execution_count": 2,
   "metadata": {
    "scrolled": true
   },
   "outputs": [
    {
     "data": {
      "application/vnd.jupyter.widget-view+json": {
       "model_id": "15edd172af4a485da8ca9c93781ab9b6",
       "version_major": 2,
       "version_minor": 0
      },
      "text/plain": [
       "VBox(children=(HBox(children=(VBox(children=(Button(description='All', style=ButtonStyle()), Button(descriptio…"
      ]
     },
     "metadata": {},
     "output_type": "display_data"
    },
    {
     "name": "stdout",
     "output_type": "stream",
     "text": [
      "extracted grid parameters\n"
     ]
    },
    {
     "data": {
      "text/html": [
       "<div>\n",
       "<style scoped>\n",
       "    .dataframe tbody tr th:only-of-type {\n",
       "        vertical-align: middle;\n",
       "    }\n",
       "\n",
       "    .dataframe tbody tr th {\n",
       "        vertical-align: top;\n",
       "    }\n",
       "\n",
       "    .dataframe thead th {\n",
       "        text-align: right;\n",
       "    }\n",
       "</style>\n",
       "<table border=\"1\" class=\"dataframe\">\n",
       "  <thead>\n",
       "    <tr style=\"text-align: right;\">\n",
       "      <th></th>\n",
       "      <th>mean_test_score</th>\n",
       "      <th>data</th>\n",
       "      <th>model__features__treegrams__tfidf__ngram_range</th>\n",
       "      <th>model__features__upos_ngrams__tfidf__ngram_range</th>\n",
       "    </tr>\n",
       "  </thead>\n",
       "  <tbody>\n",
       "    <tr>\n",
       "      <th>0</th>\n",
       "      <td>0.493878</td>\n",
       "      <td>base</td>\n",
       "      <td>[2, 3]</td>\n",
       "      <td>[2, 3]</td>\n",
       "    </tr>\n",
       "    <tr>\n",
       "      <th>1</th>\n",
       "      <td>0.085714</td>\n",
       "      <td>extra</td>\n",
       "      <td>[2, 3]</td>\n",
       "      <td>[2, 3]</td>\n",
       "    </tr>\n",
       "    <tr>\n",
       "      <th>2</th>\n",
       "      <td>0.471429</td>\n",
       "      <td>both</td>\n",
       "      <td>[2, 3]</td>\n",
       "      <td>[2, 3]</td>\n",
       "    </tr>\n",
       "  </tbody>\n",
       "</table>\n",
       "</div>"
      ],
      "text/plain": [
       "   mean_test_score   data model__features__treegrams__tfidf__ngram_range  \\\n",
       "0         0.493878   base                                         [2, 3]   \n",
       "1         0.085714  extra                                         [2, 3]   \n",
       "2         0.471429   both                                         [2, 3]   \n",
       "\n",
       "  model__features__upos_ngrams__tfidf__ngram_range  \n",
       "0                                           [2, 3]  \n",
       "1                                           [2, 3]  \n",
       "2                                           [2, 3]  "
      ]
     },
     "execution_count": 2,
     "metadata": {},
     "output_type": "execute_result"
    }
   ],
   "source": [
    "from pandasnotebooks._loader2 import FilterWidget\n",
    "fw = FilterWidget(\n",
    "    lw.df.fillna('N/A'),\n",
    "    keep_columns=['outcome']\n",
    ")\n",
    "fw.do_filter()\n",
    "fw.df\n"
   ]
  },
  {
   "cell_type": "code",
   "execution_count": 3,
   "metadata": {
    "scrolled": true
   },
   "outputs": [
    {
     "data": {
      "application/vnd.jupyter.widget-view+json": {
       "model_id": "1a389f30f1a645d3bf648235cf8d2ea8",
       "version_major": 2,
       "version_minor": 0
      },
      "text/plain": [
       "VBox(children=(Output(), HBox(children=(Checkbox(value=False, description='include index'), Text(value='l', de…"
      ]
     },
     "metadata": {},
     "output_type": "display_data"
    }
   ],
   "source": [
    "from pandasnotebooks._latex import LatexWidget\n",
    "latex_widget = LatexWidget(fw.df, set(lw.df['git_commit_id'].values))"
   ]
  },
  {
   "cell_type": "code",
   "execution_count": 4,
   "metadata": {
    "scrolled": true
   },
   "outputs": [
    {
     "data": {
      "application/vnd.jupyter.widget-view+json": {
       "model_id": "1bcb7a00cebc4428975e1709967898a2",
       "version_major": 2,
       "version_minor": 0
      },
      "text/plain": [
       "VBox(children=(HBox(children=(SelectMultiple(description='Group By', index=(0,), options=('data', 'model__feat…"
      ]
     },
     "metadata": {},
     "output_type": "display_data"
    }
   ],
   "source": [
    "from pandasnotebooks._plot import PlotWidget\n",
    "pw = PlotWidget(fw.df, score_name='mean_test_score')"
   ]
  }
 ],
 "metadata": {
  "kernelspec": {
   "display_name": "Python 3",
   "language": "python",
   "name": "python3"
  },
  "language_info": {
   "codemirror_mode": {
    "name": "ipython",
    "version": 3
   },
   "file_extension": ".py",
   "mimetype": "text/x-python",
   "name": "python",
   "nbconvert_exporter": "python",
   "pygments_lexer": "ipython3",
   "version": "3.8.5"
  }
 },
 "nbformat": 4,
 "nbformat_minor": 4
}
