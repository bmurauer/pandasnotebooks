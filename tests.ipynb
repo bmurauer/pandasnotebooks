{
 "cells": [
  {
   "cell_type": "code",
   "execution_count": null,
   "metadata": {
    "scrolled": true
   },
   "outputs": [],
   "source": [
    "from pandasnotebooks._loader import LoaderWidget\n",
    "lw = LoaderWidget(\n",
    "    git_ids='031e7da24df03293645ca704410d05a8b339e735',\n",
    ")\n",
    "lw.load()\n",
    "lw.df"
   ]
  },
  {
   "cell_type": "code",
   "execution_count": null,
   "metadata": {
    "scrolled": true
   },
   "outputs": [],
   "source": [
    "from pandasnotebooks._filter import FilterWidget\n",
    "fw = FilterWidget(\n",
    "    lw.df.fillna('N/A'),\n",
    "    keep_columns=['outcome']\n",
    ")\n",
    "fw.do_filter()\n",
    "fw.df\n"
   ]
  },
  {
   "cell_type": "code",
   "execution_count": null,
   "metadata": {
    "scrolled": true
   },
   "outputs": [],
   "source": [
    "from pandasnotebooks._latex import LatexWidget\n",
    "latex_widget = LatexWidget(fw.df, set(lw.df['git_commit_id'].values))"
   ]
  },
  {
   "cell_type": "code",
   "execution_count": null,
   "metadata": {
    "scrolled": true
   },
   "outputs": [],
   "source": [
    "from pandasnotebooks._plot import PlotWidget\n",
    "pw = PlotWidget(fw.df, score_name='mean_test_score')"
   ]
  },
  {
   "cell_type": "code",
   "execution_count": null,
   "metadata": {},
   "outputs": [],
   "source": [
    "import pandas as pd\n",
    "outcome = {'cv_results': {'mean_fit_time': {0: 0.0011463165283203125, 1: 0.0009317398071289062, 2: 0.0011485815048217773, 3: 0.000944972038269043}, 'std_fit_time': {0: 6.198883056640625e-06, 1: 4.76837158203125e-07, 2: 1.2516975402832031e-05, 3: 1.1920928955078125e-07}, 'mean_score_time': {0: 0.0015609264373779297, 1: 0.0014744997024536133, 2: 0.0014700889587402344, 3: 0.0015102624893188477}, 'std_score_time': {0: 4.649162292480469e-05, 1: 1.2278556823730469e-05, 2: 9.5367431640625e-07, 3: 3.349781036376953e-05}, 'param_linearsvc__C': {0: 0.1, 1: 0.1, 2: 10, 3: 10}, 'param_standardscaler__with_std': {0: True, 1: False, 2: True, 3: False}, 'params': {0: {'linearsvc__C': 0.1, 'standardscaler__with_std': True}, 1: {'linearsvc__C': 0.1, 'standardscaler__with_std': False}, 2: {'linearsvc__C': 10, 'standardscaler__with_std': True}, 3: {'linearsvc__C': 10, 'standardscaler__with_std': False}}, 'split0_test_accuracy': {0: 1.0, 1: 1.0, 2: 1.0, 3: 1.0}, 'split1_test_accuracy': {0: 1.0, 1: 1.0, 2: 1.0, 3: 1.0}, 'mean_test_accuracy': {0: 1.0, 1: 1.0, 2: 1.0, 3: 1.0}, 'std_test_accuracy': {0: 0.0, 1: 0.0, 2: 0.0, 3: 0.0}, 'rank_test_accuracy': {0: 1, 1: 1, 2: 1, 3: 1}, 'split0_test_f1': {0: 1.0, 1: 1.0, 2: 1.0, 3: 1.0}, 'split1_test_f1': {0: 1.0, 1: 1.0, 2: 1.0, 3: 1.0}, 'mean_test_f1': {0: 1.0, 1: 1.0, 2: 1.0, 3: 1.0}, 'std_test_f1': {0: 0.0, 1: 0.0, 2: 0.0, 3: 0.0}, 'rank_test_f1': {0: 1, 1: 1, 2: 1, 3: 1}}}\n",
    "fake_row = {\n",
    "    'id': 1234,\n",
    "    'outcome': outcome,\n",
    "    'dataloader': 'something'\n",
    "}\n",
    "df = pd.DataFrame.from_records([fake_row])\n",
    "fw = FilterWidget(\n",
    "    df,\n",
    "    score_name='mean_test_accuracy,mean_test_f1',\n",
    "    keep_columns=['outcome']\n",
    ")\n",
    "fw.do_filter()\n",
    "fw.df\n"
   ]
  },
  {
   "cell_type": "code",
   "execution_count": null,
   "metadata": {},
   "outputs": [],
   "source": []
  }
 ],
 "metadata": {
  "kernelspec": {
   "display_name": "Python 3",
   "language": "python",
   "name": "python3"
  },
  "language_info": {
   "codemirror_mode": {
    "name": "ipython",
    "version": 3
   },
   "file_extension": ".py",
   "mimetype": "text/x-python",
   "name": "python",
   "nbconvert_exporter": "python",
   "pygments_lexer": "ipython3",
   "version": "3.8.5"
  }
 },
 "nbformat": 4,
 "nbformat_minor": 4
}
